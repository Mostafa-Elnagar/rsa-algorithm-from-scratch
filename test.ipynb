{
 "cells": [
  {
   "cell_type": "code",
   "execution_count": 65,
   "metadata": {},
   "outputs": [],
   "source": [
    "from random import random\n",
    "from random import randint\n",
    "from random import randrange\n",
    "\n",
    "def rand(lower, upper):\n",
    "    length = upper - lower\n",
    "    return random() * length + lower\n",
    "\n",
    "def rand_odd(lower, upper):\n",
    "    length = upper - lower\n",
    "    if lower % 2 == 0:\n",
    "        lower += 1\n",
    "    else:\n",
    "        length += 1\n",
    "    return 2 * int(rand(0, 0.5) * length) + lower"
   ]
  },
  {
   "cell_type": "code",
   "execution_count": 54,
   "metadata": {},
   "outputs": [
    {
     "name": "stdout",
     "output_type": "stream",
     "text": [
      "failed: 0\n",
      "get upper: 3\n"
     ]
    }
   ],
   "source": [
    "outputs = []\n",
    "itr = 0\n",
    "eq_upper = 0\n",
    "failed = 0\n",
    "while itr < 100000:\n",
    "    lower = 3\n",
    "    upper =  2 * randint(5, 100000) + 1\n",
    "    odd = rand_odd(lower, upper)\n",
    "    if odd % 2 == 0:\n",
    "        failed += 1+ 1\n",
    "    if odd == upper:\n",
    "        eq_upper += 1\n",
    "    itr += 1\n",
    "print(f\"failed: {failed}\")\n",
    "print(f\"get upper: {eq_upper}\")"
   ]
  },
  {
   "cell_type": "code",
   "execution_count": 81,
   "metadata": {},
   "outputs": [
    {
     "ename": "OverflowError",
     "evalue": "int too large to convert to float",
     "output_type": "error",
     "traceback": [
      "\u001b[0;31m---------------------------------------------------------------------------\u001b[0m",
      "\u001b[0;31mOverflowError\u001b[0m                             Traceback (most recent call last)",
      "\u001b[0;32m/tmp/ipykernel_24928/1828273908.py\u001b[0m in \u001b[0;36m<module>\u001b[0;34m\u001b[0m\n\u001b[0;32m----> 1\u001b[0;31m \u001b[0mrand_odd\u001b[0m\u001b[0;34m(\u001b[0m\u001b[0;36m2\u001b[0m\u001b[0;34m**\u001b[0m\u001b[0;34m(\u001b[0m\u001b[0;36m2048\u001b[0m\u001b[0;34m-\u001b[0m\u001b[0;36m1\u001b[0m\u001b[0;34m)\u001b[0m \u001b[0;34m+\u001b[0m \u001b[0;36m1\u001b[0m\u001b[0;34m,\u001b[0m \u001b[0;36m2\u001b[0m\u001b[0;34m**\u001b[0m\u001b[0;34m(\u001b[0m\u001b[0;36m2048\u001b[0m\u001b[0;34m)\u001b[0m \u001b[0;34m-\u001b[0m\u001b[0;36m1\u001b[0m\u001b[0;34m)\u001b[0m\u001b[0;34m\u001b[0m\u001b[0;34m\u001b[0m\u001b[0m\n\u001b[0m",
      "\u001b[0;32m/tmp/ipykernel_24928/3023562861.py\u001b[0m in \u001b[0;36mrand_odd\u001b[0;34m(lower, upper)\u001b[0m\n\u001b[1;32m     13\u001b[0m     \u001b[0;32melse\u001b[0m\u001b[0;34m:\u001b[0m\u001b[0;34m\u001b[0m\u001b[0;34m\u001b[0m\u001b[0m\n\u001b[1;32m     14\u001b[0m         \u001b[0mlength\u001b[0m \u001b[0;34m+=\u001b[0m \u001b[0;36m1\u001b[0m\u001b[0;34m\u001b[0m\u001b[0;34m\u001b[0m\u001b[0m\n\u001b[0;32m---> 15\u001b[0;31m     \u001b[0;32mreturn\u001b[0m \u001b[0;36m2\u001b[0m \u001b[0;34m*\u001b[0m \u001b[0mint\u001b[0m\u001b[0;34m(\u001b[0m\u001b[0mrand\u001b[0m\u001b[0;34m(\u001b[0m\u001b[0;36m0\u001b[0m\u001b[0;34m,\u001b[0m \u001b[0;36m0.5\u001b[0m\u001b[0;34m)\u001b[0m \u001b[0;34m*\u001b[0m \u001b[0mlength\u001b[0m\u001b[0;34m)\u001b[0m \u001b[0;34m+\u001b[0m \u001b[0mlower\u001b[0m\u001b[0;34m\u001b[0m\u001b[0;34m\u001b[0m\u001b[0m\n\u001b[0m",
      "\u001b[0;31mOverflowError\u001b[0m: int too large to convert to float"
     ]
    }
   ],
   "source": [
    "rand_odd(2**(2048-1) + 1, 2**(2048) -1)"
   ]
  },
  {
   "cell_type": "code",
   "execution_count": 37,
   "metadata": {},
   "outputs": [],
   "source": [
    "PRIME_LIST = [\n",
    "    2, 3, 5, 7, 11, 13, 17, 19, 23, 29,\n",
    "    31, 37, 41, 43, 47, 53, 59, 61, 67,\n",
    "    71, 73, 79, 83, 89, 97, 101, 103,\n",
    "    107, 109, 113, 127, 131, 137, 139,\n",
    "    149, 151, 157, 163, 167, 173, 179,\n",
    "    181, 191, 193, 197, 199, 211, 223,\n",
    "    227, 229, 233, 239, 241, 251, 257,\n",
    "    263, 269, 271, 277, 281, 283, 293,\n",
    "    307, 311, 313, 317, 331, 337, 347, 349\n",
    "]"
   ]
  },
  {
   "cell_type": "code",
   "execution_count": 42,
   "metadata": {},
   "outputs": [],
   "source": [
    "import time\n",
    "\n",
    "def findPrimes(limit):\n",
    "    start = time.time()\n",
    "    list_of_primes = [2]\n",
    "    print(2)\n",
    "    for num in range(3,limit+1,2):\n",
    "        i = 0\n",
    "        for divisor in list_of_primes:\n",
    "            if num % divisor == 0:\n",
    "                i += 1\n",
    "        if i == 0:\n",
    "            list_of_primes.append(num)\n",
    "    print(list_of_primes[-1])\n",
    "    elapsed = time.time() - start\n",
    "    print(\"\\nProgram took %s seconds to run.\" % (elapsed)) "
   ]
  },
  {
   "cell_type": "code",
   "execution_count": 130,
   "metadata": {},
   "outputs": [
    {
     "data": {
      "text/plain": [
       "11380607854071368983303803237803199506149273767870893639639957204975212771968409203103153611454400294538731258473368271789039386647700721229343726784585398280072261002707497517010425956281138219537383310403547399581341133798924739079324667736891195090190532596480297515114606754576865138065518999013240945939876035812526113252652418237077657932695612371293119374436096044883359493370901724347502374104699635552751471680222747466969394156350639019114855554960398903652420901303877237273912588509274289999618356983603971311794932973699649681233689054076775229711027674578620444436648636887207525859214783063839746231129538945418678315373879904969897993620439037487741709722364352228358705607803730458081021016055688806306211755858590262702236454668420535938683032289423078992088721562218583715605908785131661211088261963590920981437000966949176126142502314706220857526026235701005826499834413148351153464346997702987854928364971927195120999718114565951237960340714580111438869792369430245025086073462204725238895392117765075804866629284673661568766019060707710608669149966062609962775946765742371498414651332657969057116013450740215205929834614750543774746655092495204084801873506962632736071401874229295377"
      ]
     },
     "execution_count": 130,
     "metadata": {},
     "output_type": "execute_result"
    }
   ],
   "source": [
    "\n",
    "\n",
    "PRIME_LIST = [\n",
    "    2, 3, 5, 7, 11, 13, 17, 19, 23, 29,\n",
    "    31, 37, 41, 43, 47, 53, 59, 61, 67,\n",
    "    71, 73, 79, 83, 89, 97, 101, 103,\n",
    "    107, 109, 113, 127, 131, 137, 139,\n",
    "    149, 151, 157, 163, 167, 173, 179,\n",
    "    181, 191, 193, 197, 199, 211, 223,\n",
    "    227, 229, 233, 239, 241, 251, 257,\n",
    "    263, 269, 271, 277, 281, 283, 293,\n",
    "    307, 311, 313, 317, 331, 337, 347, 349\n",
    "]\n",
    "\n",
    "\n",
    "\n",
    "def _get_cand_prime(n):\n",
    "    \"\"\"\n",
    "    generate candidate prime\n",
    "    \"\"\"\n",
    "\n",
    "    def pick_rand(n):\n",
    "        \"\"\"\n",
    "        return a random number of length n and leading bit = 1\n",
    "        \"\"\"\n",
    "        lower = 2 ** (n - 1) + 1\n",
    "        upper = 2 ** (n) - 1\n",
    "        if n < 6:\n",
    "            lower = 3\n",
    "            \n",
    "        return randrange(lower, upper)\n",
    "\n",
    "   \n",
    "    # Repeat until a number satisfying\n",
    "    while True: \n",
    "        # get random number\n",
    "        p = pick_rand(n)\n",
    "   \n",
    "        for d in PRIME_LIST: \n",
    "            if (p % d == 0 and d**2 <= p):\n",
    "                break\n",
    "            # If no divisor found, return value\n",
    "            return p\n",
    "        \n",
    "\n",
    "def _is_miller_passed(cand_num, n_rabin_trails=25):\n",
    "    '''Run 20 iterations of Rabin Miller Primality test'''\n",
    "   \n",
    "    max_div_by_two = 0\n",
    "    even_comp = cand_num - 1\n",
    "   \n",
    "    while even_comp % 2 == 0:\n",
    "        even_comp >>= 1\n",
    "        max_div_by_two += 1\n",
    "\n",
    "    assert(2 ** max_div_by_two * even_comp == cand_num - 1)\n",
    "   \n",
    "    def trail_composite(round_tester):\n",
    "        if pow(round_tester, even_comp, \n",
    "               cand_num) == 1:\n",
    "            return False\n",
    "        for i in range(max_div_by_two):\n",
    "            if (pow(round_tester, 2**i * even_comp, cand_num) == cand_num - 1):\n",
    "                return False\n",
    "        return True\n",
    "   \n",
    "    for _ in range(n_rabin_trails):\n",
    "        round_tester = randrange(2, cand_num)\n",
    "        if trail_composite(round_tester):\n",
    "            return False\n",
    "        \n",
    "    return True\n",
    "\n",
    "_get_cand_prime(4000)"
   ]
  },
  {
   "cell_type": "code",
   "execution_count": 131,
   "metadata": {},
   "outputs": [],
   "source": [
    "\n",
    "def gen_prime(nbits=512):\n",
    "    while True:\n",
    "        prime_candidate = _get_cand_prime(nbits)\n",
    "        if not _is_miller_passed(prime_candidate):\n",
    "            continue\n",
    "        else:\n",
    "            return prime_candidate"
   ]
  },
  {
   "cell_type": "code",
   "execution_count": 132,
   "metadata": {},
   "outputs": [
    {
     "data": {
      "text/plain": [
       "6.02932333946228"
      ]
     },
     "execution_count": 132,
     "metadata": {},
     "output_type": "execute_result"
    }
   ],
   "source": [
    "import time \n",
    "start = time.time()\n",
    "gen_prime(1024)\n",
    "\n",
    "end = time.time()\n",
    "end - start "
   ]
  },
  {
   "cell_type": "code",
   "execution_count": 89,
   "metadata": {},
   "outputs": [
    {
     "name": "stdout",
     "output_type": "stream",
     "text": [
      "100051599381596060560363236932713699159979494265396143770417280831548421440758089028298281955038074654936658930142986376724985759427963980298477329321509087710657633551285264366241456964012714461587623687592836275116890056881126531152877964187090917318388569732899011112129792801963726726316566614763532724315\n"
     ]
    },
    {
     "data": {
      "text/plain": [
       "0.0019528865814208984"
      ]
     },
     "execution_count": 89,
     "metadata": {},
     "output_type": "execute_result"
    }
   ],
   "source": [
    "import time \n",
    "start = time.time()\n",
    "def pick_rand(n):\n",
    "    \"\"\"\n",
    "    return a random number of length n and leading bit = 1\n",
    "    \"\"\"\n",
    "    lower = 2 ** (n - 1) + 1\n",
    "    upper = 2 ** (n) - 1\n",
    "    if n < 6:\n",
    "        lower = 3\n",
    "        \n",
    "    return randrange(lower, upper)\n",
    "\n",
    "print(pick_rand(1024))\n",
    "end = time.time()\n",
    "end - start "
   ]
  },
  {
   "cell_type": "code",
   "execution_count": 90,
   "metadata": {},
   "outputs": [
    {
     "name": "stdout",
     "output_type": "stream",
     "text": [
      "146030934052187550175767381935182314055858662038343121456411647423308838548718697720264160746152129297812452414513339389706414454841312199572393603628631683179835121467782743886507976556839353186422817672449200578566949362335074427228906899153998784484547314996916260892560649857950557860715118366743662166017\n"
     ]
    },
    {
     "data": {
      "text/plain": [
       "0.00031757354736328125"
      ]
     },
     "execution_count": 90,
     "metadata": {},
     "output_type": "execute_result"
    }
   ],
   "source": [
    "import time \n",
    "start = time.time()\n",
    "def pick_rand(n):\n",
    "    \"\"\"\n",
    "    return a random number of length n and leading bit = 1\n",
    "    \"\"\"\n",
    "    lower = 2 ** (n - 1) + 1\n",
    "    upper = 2 ** (n) - 1\n",
    "    if n < 6:\n",
    "        lower = 3\n",
    "        \n",
    "    return rand_odd(lower, upper)\n",
    "\n",
    "print(pick_rand(1024))\n",
    "end = time.time()\n",
    "end - start "
   ]
  },
  {
   "cell_type": "code",
   "execution_count": null,
   "metadata": {},
   "outputs": [],
   "source": [
    "n = 15\n",
    "\n",
    "print(rd)"
   ]
  },
  {
   "cell_type": "code",
   "execution_count": 114,
   "metadata": {},
   "outputs": [],
   "source": [
    "def gen_rand(n):\n",
    "    a = 2 ** (n - 1) - 1\n",
    "    b = 2 ** n - 1\n",
    "    rd = randint(a, b)\n",
    "    return rd\n"
   ]
  },
  {
   "cell_type": "code",
   "execution_count": 122,
   "metadata": {},
   "outputs": [],
   "source": [
    "rd = gen_rand(32)"
   ]
  },
  {
   "cell_type": "code",
   "execution_count": 106,
   "metadata": {},
   "outputs": [],
   "source": [
    "import sys "
   ]
  },
  {
   "cell_type": "code",
   "execution_count": 123,
   "metadata": {},
   "outputs": [
    {
     "data": {
      "text/plain": [
       "32"
      ]
     },
     "execution_count": 123,
     "metadata": {},
     "output_type": "execute_result"
    }
   ],
   "source": [
    "sys.getsizeof(rd)"
   ]
  },
  {
   "cell_type": "code",
   "execution_count": 124,
   "metadata": {},
   "outputs": [
    {
     "name": "stdout",
     "output_type": "stream",
     "text": [
      "3197879636\n"
     ]
    }
   ],
   "source": [
    "print(rd)"
   ]
  },
  {
   "cell_type": "code",
   "execution_count": 125,
   "metadata": {},
   "outputs": [],
   "source": [
    "new_rd = (rd << 1) + 1"
   ]
  },
  {
   "cell_type": "code",
   "execution_count": 126,
   "metadata": {},
   "outputs": [
    {
     "name": "stdout",
     "output_type": "stream",
     "text": [
      "6395759273\n"
     ]
    }
   ],
   "source": [
    "print(new_rd)"
   ]
  },
  {
   "cell_type": "code",
   "execution_count": 121,
   "metadata": {},
   "outputs": [
    {
     "data": {
      "text/plain": [
       "int"
      ]
     },
     "execution_count": 121,
     "metadata": {},
     "output_type": "execute_result"
    }
   ],
   "source": [
    "type(new_rd)"
   ]
  },
  {
   "cell_type": "code",
   "execution_count": 133,
   "metadata": {},
   "outputs": [
    {
     "data": {
      "text/plain": [
       "24442473116134551916788876805297147873677226761658137154953768249209123515541575008967226612772350309893764736422235825965959728072593041795796736107390501327204635829202081877039956942593631795189453614873703728858757636185604415569584253921595158781136168717613254148209633132556020863360098742074866608858424490085244282774426862417530411977797817126412488689417147374520679203701230015501914178023468422245809261385552936488526907109972096728738602838068618546854894100945174107237489001998873311197140564544819689245465404147173879310418722802415702844077593478093659208304136777576159809529556934971797007245305720934475191953811285513147251621803659069340286208945275178750453522272490079539542301609931650363534249999981555264060978488727813559453554956470251167267757125754187242797881082269611801517068760967148786521915199979114244691021938649990246433342002410602025802828351709674250055162299019961525630010439548499598265311880082683568788054840204170355040065548964926681923599300277353206009451165370332331248583399501822355310992836318042837815231281454885635757845210545398564038934185769913054862266458932213293003644814277181040791654256654069941973356333001932957872909043296828633599"
      ]
     },
     "execution_count": 133,
     "metadata": {},
     "output_type": "execute_result"
    }
   ],
   "source": [
    "\n",
    "\n",
    "PRIME_LIST = [\n",
    "    2, 3, 5, 7, 11, 13, 17, 19, 23, 29,\n",
    "    31, 37, 41, 43, 47, 53, 59, 61, 67,\n",
    "    71, 73, 79, 83, 89, 97, 101, 103,\n",
    "    107, 109, 113, 127, 131, 137, 139,\n",
    "    149, 151, 157, 163, 167, 173, 179,\n",
    "    181, 191, 193, 197, 199, 211, 223,\n",
    "    227, 229, 233, 239, 241, 251, 257,\n",
    "    263, 269, 271, 277, 281, 283, 293,\n",
    "    307, 311, 313, 317, 331, 337, 347, 349\n",
    "]\n",
    "\n",
    "\n",
    "\n",
    "def _get_cand_prime(n):\n",
    "    \"\"\"\n",
    "    generate candidate prime\n",
    "    \"\"\"\n",
    "\n",
    "    def pick_rand(n):\n",
    "        \"\"\"\n",
    "        return a random number of length n and leading bit = 1\n",
    "        \"\"\"\n",
    "        lower = 2 ** (n - 1) + 1\n",
    "        upper = 2 ** (n) - 1\n",
    "        if n < 6:\n",
    "            lower = 3\n",
    "        \n",
    "        cand = (randrange(lower, upper) << 1) + 1\n",
    "        return cand\n",
    "\n",
    "   \n",
    "    # Repeat until a number satisfying\n",
    "    while True: \n",
    "        # get random number\n",
    "        p = pick_rand(n)\n",
    "   \n",
    "        for d in PRIME_LIST: \n",
    "            if (p % d == 0 and d**2 <= p):\n",
    "                break\n",
    "            # If no divisor found, return value\n",
    "            return p\n",
    "        \n",
    "\n",
    "def _is_miller_passed(cand_num, n_rabin_trails=25):\n",
    "    '''Run 20 iterations of Rabin Miller Primality test'''\n",
    "   \n",
    "    max_div_by_two = 0\n",
    "    even_comp = cand_num - 1\n",
    "   \n",
    "    while even_comp % 2 == 0:\n",
    "        even_comp >>= 1\n",
    "        max_div_by_two += 1\n",
    "\n",
    "    assert(2 ** max_div_by_two * even_comp == cand_num - 1)\n",
    "   \n",
    "    def trail_composite(round_tester):\n",
    "        if pow(round_tester, even_comp, \n",
    "               cand_num) == 1:\n",
    "            return False\n",
    "        for i in range(max_div_by_two):\n",
    "            if (pow(round_tester, 2**i * even_comp, cand_num) == cand_num - 1):\n",
    "                return False\n",
    "        return True\n",
    "   \n",
    "    for _ in range(n_rabin_trails):\n",
    "        round_tester = randrange(2, cand_num)\n",
    "        if trail_composite(round_tester):\n",
    "            return False\n",
    "        \n",
    "    return True\n",
    "\n",
    "_get_cand_prime(4000)"
   ]
  },
  {
   "cell_type": "code",
   "execution_count": 134,
   "metadata": {},
   "outputs": [
    {
     "data": {
      "text/plain": [
       "37.469170331954956"
      ]
     },
     "execution_count": 134,
     "metadata": {},
     "output_type": "execute_result"
    }
   ],
   "source": [
    "import time \n",
    "start = time.time()\n",
    "gen_prime(2048)\n",
    "\n",
    "end = time.time()\n",
    "end - start"
   ]
  },
  {
   "cell_type": "code",
   "execution_count": null,
   "metadata": {},
   "outputs": [],
   "source": []
  }
 ],
 "metadata": {
  "kernelspec": {
   "display_name": "base",
   "language": "python",
   "name": "python3"
  },
  "language_info": {
   "codemirror_mode": {
    "name": "ipython",
    "version": 3
   },
   "file_extension": ".py",
   "mimetype": "text/x-python",
   "name": "python",
   "nbconvert_exporter": "python",
   "pygments_lexer": "ipython3",
   "version": "3.9.13"
  },
  "orig_nbformat": 4
 },
 "nbformat": 4,
 "nbformat_minor": 2
}
