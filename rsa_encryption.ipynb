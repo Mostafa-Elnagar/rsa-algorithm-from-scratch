{
 "cells": [
  {
   "attachments": {},
   "cell_type": "markdown",
   "metadata": {},
   "source": [
    "## RSA Encryption and Decryption\n",
    "\n",
    "RSA encryption is a widely-used encryption algorithm that relies on the difficulty of factoring large numbers. In this notebook, we'll implement the RSA algorithm in Python and demonstrate how it can be used to encrypt and decrypt messages.\n",
    "\n",
    "### `generate_random_prime.py`:\n",
    "\n",
    "First, let's take a look at the `generate_random_prime.py` module. This module contains functions for generating large, random prime numbers. This part of the process is very crucial because it's important to ensure that you generate a large randome prime number in a small time to make the algorithm practical since key length less than 1024 bit is considered easily breakable by factorization. to speed up the process of generating prime random number I made a function that generates only odd number since a prime number must be odd that made the algorithm more efficient.\n",
    "\n",
    "#### `gen_prime(nbits)`\n",
    "\n",
    "This function generates a random prime number with `nbits` bits using the Rabin-Miller primality test. It repeats the process until it finds a prime number that passes the test.\n",
    "\n",
    "#### `gen_unique_primes(n, nbits, iters)`\n",
    "\n",
    "This function generates `n` unique prime numbers with `nbits` bits using the `gen_prime` function. It repeats the process up to `iters` times to ensure that it finds unique primes.\n",
    "\n",
    "### `rsa.py`:\n",
    "\n",
    "Next, let's take a look at the `rsa.py` module. This module contains functions for encrypting and decrypting messages using the RSA algorithm.\n",
    "\n",
    "#### `exp_mod(a, b, n)`\n",
    "\n",
    "This function calculates `a` raised to the power of `b` modulo `n` using binary exponentiation.\n",
    "\n",
    "#### `begcd(a, b)`\n",
    "\n",
    "This function calculates the greatest common divisor (GCD) of two numbers`a`and `b` using the binary extended GCD algorithm.\n",
    "\n",
    "#### `gcd(a, b)`\n",
    "\n",
    "This function calculates the GCD of `a` and `b` using the `begcd` function.\n",
    "\n",
    "#### `find_modular_inverse(a, m)`\n",
    "\n",
    "This function finds the modular inverse of `a` modulo `m` using the extended binary GCD algorithm. If a modular inverse does not exist, it raises a `ValueError`.\n",
    "This function is used to find the private key and it uses the Binary Extended Euclidian Algorithm.\n",
    "\n",
    "#### `gen_keys(nbits)`\n",
    "\n",
    "This function generates a public-private key pair for the RSA algorithm. It generates two unique prime numbers with `nbits` bits using the `gen_unique_primes` function, and then calculates `n`, `phi`, `e`, and `d` according to the RSA algorithm. It returns the public key `(e, n)` and the private key `(d, n)`.\n",
    "\n",
    "#### `encrypt(msg, pub_key)`\n",
    "\n",
    "This function encrypts a message `msg` using the public key `pub_key`. It converts each character in the message to its ASCII code, raises it to the power of `e` modulo `n`, and stores the result in a list.\n",
    "\n",
    "#### `decrypt(cipher, priv_key)`\n",
    "\n",
    "This function decrypts a cipher `cipher` using the private key `priv_key`. It raises each element in the cipher to the power of `d` modulo `n`, converts the resulting integer to its corresponding ASCII character, and concatenates the characters to form the original message.\n",
    "\n",
    "#### `factorization(n)`\n",
    "\n",
    "This function factors a positive integer `n` into its prime factors using the Pollard-Rho algorithm.\n",
    "I will use this function to hack the private key.\n",
    "\n",
    "#### `pack(to_pack)`\n",
    "\n",
    "This function packs a list of integers `to_pack` into a comma-separated string to make it possible to be encoded and sent.\n",
    "\n",
    "#### `unpack(s)`\n",
    "\n",
    "This function unpacks a comma-separated string `s` into a list of integers (the inverse of the previous function).\n",
    "\n",
    "Now that we've gone over the functions in the `rsa.py` module, let's run some examples to see how they work:\n"
   ]
  },
  {
   "cell_type": "code",
   "execution_count": 8,
   "metadata": {},
   "outputs": [
    {
     "name": "stdout",
     "output_type": "stream",
     "text": [
      "Phi: 1495740816\n",
      "hacked Private key: (1196592653, 1495818937)\n"
     ]
    }
   ],
   "source": [
    "from rsa import factorization, find_modular_inverse\n",
    "\"\"\"\n",
    "0000   00 00 00 00 00 00 00 00 00 00 00 00 08 00 45 00   ..............E.\n",
    "0010   00 40 c7 95 40 00 40 06 75 20 7f 00 00 01 7f 00   .@..@.@.u ......\n",
    "0020   00 01 27 0f e8 64 e2 bb 78 93 e9 15 d4 dc 80 18   ..'..d..x.......\n",
    "0030   02 00 fe 34 00 00 01 01 08 0a b5 53 5c 80 b5 53   ...4.......S\\..S\n",
    "0040   5c 80 35 2c 31 34 39 35 38 31 38 39 33 37         \\.5,1495818937\n",
    "\"\"\"\n",
    "p, q = factorization(1495818937)\n",
    "phi = (p - 1) * (q - 1)\n",
    "e = 5\n",
    "hacked_priv = find_modular_inverse(e, phi), (p * q)\n",
    "print(f\"Phi: {phi}\")\n",
    "print(f\"hacked Private key: {hacked_priv}\")"
   ]
  },
  {
   "cell_type": "code",
   "execution_count": 9,
   "metadata": {},
   "outputs": [
    {
     "name": "stdout",
     "output_type": "stream",
     "text": [
      "decrypted massage: Hello my name is mostafa\n"
     ]
    }
   ],
   "source": [
    "from rsa import decrypt, unpack\n",
    "\n",
    "\"\"\" \n",
    "0000   00 00 00 00 00 00 00 00 00 00 00 00 08 00 45 00   ..............E.\n",
    "0010   01 22 c7 97 40 00 40 06 74 3c 7f 00 00 01 7f 00   .\"..@.@.t<......\n",
    "0020   00 01 27 0f e8 64 e2 bb 78 9f e9 15 d4 e8 80 18   ..'..d..x.......\n",
    "0030   02 00 ff 16 00 00 01 01 08 0a b5 53 86 ca b5 53   ...........S...S\n",
    "0040   5c 80 34 33 39 30 39 38 36 39 35 2c 33 39 33 36   \\.439098695,3936\n",
    "0050   37 39 34 32 2c 31 32 33 30 39 31 30 33 33 35 2c   7942,1230910335,\n",
    "0060   31 32 33 30 39 31 30 33 33 35 2c 33 39 36 35 37   1230910335,39657\n",
    "0070   33 32 34 34 2c 33 33 35 35 34 34 33 32 2c 34 32   3244,33554432,42\n",
    "0080   38 30 35 30 31 37 39 2c 35 30 38 35 30 32 36 37   8050179,50850267\n",
    "0090   32 2c 33 33 35 35 34 34 33 32 2c 31 31 34 36 39   2,33554432,11469\n",
    "00a0   31 30 36 33 30 2c 31 31 30 38 32 34 35 35 37 32   10630,1108245572\n",
    "00b0   2c 34 32 38 30 35 30 31 37 39 2c 33 39 33 36 37   ,428050179,39367\n",
    "00c0   39 34 32 2c 33 33 35 35 34 34 33 32 2c 37 39 36   942,33554432,796\n",
    "00d0   32 36 34 31 32 39 2c 36 36 37 39 32 35 36 39 34   264129,667925694\n",
    "00e0   2c 33 33 35 35 34 34 33 32 2c 34 32 38 30 35 30   ,33554432,428050\n",
    "00f0   31 37 39 2c 33 39 36 35 37 33 32 34 34 2c 36 36   179,396573244,66\n",
    "0100   37 39 32 35 36 39 34 2c 36 31 39 35 31 34 35 38   7925694,61951458\n",
    "0110   2c 31 31 30 38 32 34 35 35 37 32 2c 35 37 30 30   ,1108245572,5700\n",
    "0120   37 35 34 37 33 2c 31 31 30 38 32 34 35 35 37 32   75473,1108245572\n",
    "\n",
    "\"\"\"\n",
    "\n",
    "\n",
    "to_decrypt = \"439098695,39367942,1230910335,1230910335,396573244,33554432,428050179,508502672,33554432,1146910630,1108245572,428050179,39367942,33554432,796264129,667925694,33554432,428050179,396573244,667925694,61951458,1108245572,570075473,1108245572\"\n",
    "\n",
    "unpacked = unpack(to_decrypt)\n",
    "decrypted = decrypt(unpacked, hacked_priv)\n",
    "print(f\"decrypted massage: {decrypted}\")"
   ]
  },
  {
   "cell_type": "code",
   "execution_count": null,
   "metadata": {},
   "outputs": [],
   "source": []
  }
 ],
 "metadata": {
  "kernelspec": {
   "display_name": "base",
   "language": "python",
   "name": "python3"
  },
  "language_info": {
   "codemirror_mode": {
    "name": "ipython",
    "version": 3
   },
   "file_extension": ".py",
   "mimetype": "text/x-python",
   "name": "python",
   "nbconvert_exporter": "python",
   "pygments_lexer": "ipython3",
   "version": "3.9.13"
  },
  "orig_nbformat": 4
 },
 "nbformat": 4,
 "nbformat_minor": 2
}
