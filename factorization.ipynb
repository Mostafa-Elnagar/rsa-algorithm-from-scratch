{
 "cells": [
  {
   "attachments": {},
   "cell_type": "markdown",
   "metadata": {},
   "source": [
    "# Factorization\n",
    "\n",
    "In this notebook is a demonstration of how factorization can break small key length very quickly, after exchanging the puplic keys through the channel anyone can have the puplic key if the key length is short that makes it very easy to factorize and regenerate the private key."
   ]
  },
  {
   "attachments": {},
   "cell_type": "markdown",
   "metadata": {},
   "source": [
    "## The hacking process \n",
    "\n",
    "### Clients Exchange public keys and massages\n",
    "\n",
    "- first the clients exhange the puplic key to be able to encrypt massages in a way that only the one who have the private key associeted with this public key can understand.\n",
    "\n",
    "\n",
    "![Alt text](./images/public_key.png \"puplic key\")\n",
    "\n",
    "- After exhachanging puplic keys the start sending massages to each other each encrypt the massage with the other's puplic key \n",
    "\n",
    "![Alt text](./images/send_massages.png \"two clients sending massages\")\n",
    "\n",
    "- one can sniff to the channel they sending the massages through and analyze the packets\n",
    "    - encrypted massage\n",
    "![Alt text](./images/encrypted.png \"encrypted massage\")\n",
    "    - not encrypted massage: NOTE I tweeked the code if \"$hacker\" exists in the massage don't encrypt\n",
    "![Alt text](./images/not_encrypted.png \" not encrypted massage\")"
   ]
  },
  {
   "cell_type": "code",
   "execution_count": 1,
   "metadata": {},
   "outputs": [
    {
     "name": "stdout",
     "output_type": "stream",
     "text": [
      "Phi: 1495740816\n",
      "hacked Private key: (1196592653, 1495818937)\n"
     ]
    }
   ],
   "source": [
    "from rsa import factorization, find_modular_inverse\n",
    "\"\"\"\n",
    "0000   00 00 00 00 00 00 00 00 00 00 00 00 08 00 45 00   ..............E.\n",
    "0010   00 40 c7 95 40 00 40 06 75 20 7f 00 00 01 7f 00   .@..@.@.u ......\n",
    "0020   00 01 27 0f e8 64 e2 bb 78 93 e9 15 d4 dc 80 18   ..'..d..x.......\n",
    "0030   02 00 fe 34 00 00 01 01 08 0a b5 53 5c 80 b5 53   ...4.......S\\..S\n",
    "0040   5c 80 35 2c 31 34 39 35 38 31 38 39 33 37         \\.5,1495818937\n",
    "\"\"\"\n",
    "p, q = factorization(1495818937)\n",
    "phi = (p - 1) * (q - 1)\n",
    "e = 5\n",
    "hacked_priv = find_modular_inverse(e, phi), (p * q)\n",
    "print(f\"Phi: {phi}\")\n",
    "print(f\"hacked Private key: {hacked_priv}\")"
   ]
  },
  {
   "cell_type": "code",
   "execution_count": 2,
   "metadata": {},
   "outputs": [
    {
     "name": "stdout",
     "output_type": "stream",
     "text": [
      "decrypted massage: Hello my name is mostafa\n"
     ]
    }
   ],
   "source": [
    "from rsa import decrypt, unpack\n",
    "\n",
    "\"\"\" \n",
    "0000   00 00 00 00 00 00 00 00 00 00 00 00 08 00 45 00   ..............E.\n",
    "0010   01 22 c7 97 40 00 40 06 74 3c 7f 00 00 01 7f 00   .\"..@.@.t<......\n",
    "0020   00 01 27 0f e8 64 e2 bb 78 9f e9 15 d4 e8 80 18   ..'..d..x.......\n",
    "0030   02 00 ff 16 00 00 01 01 08 0a b5 53 86 ca b5 53   ...........S...S\n",
    "0040   5c 80 34 33 39 30 39 38 36 39 35 2c 33 39 33 36   \\.439098695,3936\n",
    "0050   37 39 34 32 2c 31 32 33 30 39 31 30 33 33 35 2c   7942,1230910335,\n",
    "0060   31 32 33 30 39 31 30 33 33 35 2c 33 39 36 35 37   1230910335,39657\n",
    "0070   33 32 34 34 2c 33 33 35 35 34 34 33 32 2c 34 32   3244,33554432,42\n",
    "0080   38 30 35 30 31 37 39 2c 35 30 38 35 30 32 36 37   8050179,50850267\n",
    "0090   32 2c 33 33 35 35 34 34 33 32 2c 31 31 34 36 39   2,33554432,11469\n",
    "00a0   31 30 36 33 30 2c 31 31 30 38 32 34 35 35 37 32   10630,1108245572\n",
    "00b0   2c 34 32 38 30 35 30 31 37 39 2c 33 39 33 36 37   ,428050179,39367\n",
    "00c0   39 34 32 2c 33 33 35 35 34 34 33 32 2c 37 39 36   942,33554432,796\n",
    "00d0   32 36 34 31 32 39 2c 36 36 37 39 32 35 36 39 34   264129,667925694\n",
    "00e0   2c 33 33 35 35 34 34 33 32 2c 34 32 38 30 35 30   ,33554432,428050\n",
    "00f0   31 37 39 2c 33 39 36 35 37 33 32 34 34 2c 36 36   179,396573244,66\n",
    "0100   37 39 32 35 36 39 34 2c 36 31 39 35 31 34 35 38   7925694,61951458\n",
    "0110   2c 31 31 30 38 32 34 35 35 37 32 2c 35 37 30 30   ,1108245572,5700\n",
    "0120   37 35 34 37 33 2c 31 31 30 38 32 34 35 35 37 32   75473,1108245572\n",
    "\n",
    "\"\"\"\n",
    "\n",
    "\n",
    "to_decrypt = \"439098695,39367942,1230910335,1230910335,396573244,33554432,428050179,508502672,33554432,1146910630,1108245572,428050179,39367942,33554432,796264129,667925694,33554432,428050179,396573244,667925694,61951458,1108245572,570075473,1108245572\"\n",
    "\n",
    "unpacked = unpack(to_decrypt)\n",
    "decrypted = decrypt(unpacked, hacked_priv)\n",
    "print(f\"decrypted massage: {decrypted}\")"
   ]
  },
  {
   "cell_type": "code",
   "execution_count": null,
   "metadata": {},
   "outputs": [],
   "source": []
  }
 ],
 "metadata": {
  "kernelspec": {
   "display_name": "base",
   "language": "python",
   "name": "python3"
  },
  "language_info": {
   "codemirror_mode": {
    "name": "ipython",
    "version": 3
   },
   "file_extension": ".py",
   "mimetype": "text/x-python",
   "name": "python",
   "nbconvert_exporter": "python",
   "pygments_lexer": "ipython3",
   "version": "3.9.16"
  },
  "orig_nbformat": 4
 },
 "nbformat": 4,
 "nbformat_minor": 2
}
